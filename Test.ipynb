{
 "cells": [
  {
   "cell_type": "markdown",
   "metadata": {},
   "source": [
    "# Model Output"
   ]
  },
  {
   "cell_type": "code",
   "execution_count": null,
   "metadata": {},
   "outputs": [],
   "source": [
    "import torch\n",
    "import numpy as np\n",
    "import matplotlib.pyplot as plt\n",
    "from torchvision.models import resnet18"
   ]
  },
  {
   "cell_type": "code",
   "execution_count": null,
   "metadata": {},
   "outputs": [],
   "source": [
    "model = resnet18().eval()"
   ]
  },
  {
   "cell_type": "code",
   "execution_count": null,
   "metadata": {},
   "outputs": [],
   "source": [
    "list(model.modules())[-1]"
   ]
  },
  {
   "cell_type": "code",
   "execution_count": null,
   "metadata": {},
   "outputs": [],
   "source": [
    "out = model(torch.randn(1, 3, 32, 32))"
   ]
  },
  {
   "cell_type": "code",
   "execution_count": null,
   "metadata": {},
   "outputs": [],
   "source": [
    "out.shape"
   ]
  },
  {
   "cell_type": "code",
   "execution_count": null,
   "metadata": {},
   "outputs": [],
   "source": [
    "np.max(out.detach().numpy()), np.min(out.detach().numpy())"
   ]
  },
  {
   "cell_type": "code",
   "execution_count": null,
   "metadata": {},
   "outputs": [],
   "source": [
    "plt.figure(figsize=(30, 10))\n",
    "plt.bar(range(1000), out.detach().numpy().reshape(-1))\n",
    "plt.show()"
   ]
  },
  {
   "cell_type": "markdown",
   "metadata": {},
   "source": [
    "# Configuration"
   ]
  },
  {
   "cell_type": "code",
   "execution_count": null,
   "metadata": {},
   "outputs": [],
   "source": [
    "import json\n",
    "from KD_Lib.models.resnet import ResNet18, ResNet50, ResNet152"
   ]
  },
  {
   "cell_type": "code",
   "execution_count": null,
   "metadata": {},
   "outputs": [],
   "source": [
    "class Cfg:\n",
    "    def __init__(self, dict=None):\n",
    "        if dict is not None:\n",
    "            for key in dict:\n",
    "                setattr(self, key, dict[key])\n",
    "            return\n",
    "        \n",
    "        self.MODE: str = 'shake' # 'kd' or 'dml' or 'shake'\n",
    "        self.DATASET: str = 'cifar100' # 'cifar10' or 'cifar100'\n",
    "        self.CLASSES: int = 100\n",
    "        self.DATA_PATH: str = '../Knowledge-Distillation-Zoo/datasets/'\n",
    "        self.BATCH_SIZE: int = 128\n",
    "        self.TEACHER = 'resnet152' \n",
    "        self.STUDENT = 'resnet18'\n",
    "        self.LR: float = 0.1\n",
    "        self.LR_MIN: float = 1e-6 #1e-5\n",
    "        self.T: float = 1.0\n",
    "        self.W: float = 0.5\n",
    "        self.EPOCHS: int = 200\n",
    "        self.SCHEDULER: str = 'cos' # 'cos' or 'step'\n",
    "        self.TEACHER_WEIGHTS: str = f'./models/teacher_{self.DATASET}_{self.MODE}.pt'\n",
    "        self.PARALLEL: bool = False\n",
    "        self.EXP: str = f\"{self.MODE}_{self.DATASET}\""
   ]
  },
  {
   "cell_type": "code",
   "execution_count": null,
   "metadata": {},
   "outputs": [],
   "source": [
    "cfg = Cfg()\n",
    "cfg.__dict__"
   ]
  },
  {
   "cell_type": "code",
   "execution_count": null,
   "metadata": {},
   "outputs": [],
   "source": [
    "with open(\"cfg.json\", \"w\") as file:\n",
    "    json.dump(cfg.__dict__, file)\n",
    " \n",
    "with open(\"cfg.json\", \"r\") as file:\n",
    "    loaded_cfg = json.load(file)\n",
    " \n",
    "print(loaded_cfg)"
   ]
  },
  {
   "cell_type": "code",
   "execution_count": null,
   "metadata": {},
   "outputs": [],
   "source": [
    "cfg = Cfg(loaded_cfg)"
   ]
  },
  {
   "cell_type": "code",
   "execution_count": null,
   "metadata": {},
   "outputs": [],
   "source": [
    "cfg.__dict__"
   ]
  },
  {
   "cell_type": "markdown",
   "metadata": {},
   "source": [
    "# Visualize Scheduler"
   ]
  },
  {
   "cell_type": "code",
   "execution_count": null,
   "metadata": {},
   "outputs": [],
   "source": [
    "import torch\n",
    "from torch.optim.lr_scheduler import CosineAnnealingLR, LinearLR, MultiStepLR\n",
    "import matplotlib.pyplot as plt"
   ]
  },
  {
   "cell_type": "code",
   "execution_count": null,
   "metadata": {},
   "outputs": [],
   "source": [
    "STEPS = 200\n",
    "LR = 0.1\n",
    "ETA = 1e-5\n",
    "\n",
    "lrs = []\n",
    "optimizer = torch.optim.SGD([torch.tensor(1)], lr=LR)\n",
    "scheduler = CosineAnnealingLR(optimizer, STEPS, eta_min=ETA, last_epoch=-1)\n",
    "for _ in range(STEPS):\n",
    "    optimizer.step()\n",
    "    lrs.append(scheduler.get_last_lr())\n",
    "    scheduler.step()\n",
    "plt.plot(lrs, label=scheduler.__class__.__name__)\n",
    "\n",
    "lrs = []\n",
    "optimizer = torch.optim.SGD([torch.tensor(1)], lr=LR)\n",
    "scheduler = LinearLR(optimizer, total_iters=STEPS, start_factor=1, end_factor=ETA/LR)\n",
    "for _ in range(STEPS):\n",
    "    optimizer.step()\n",
    "    lrs.append(scheduler.get_last_lr())\n",
    "    scheduler.step()\n",
    "plt.plot(lrs, label=scheduler.__class__.__name__)\n",
    "\n",
    "lrs = []\n",
    "optimizer = torch.optim.SGD([torch.tensor(1)], lr=LR)\n",
    "scheduler = MultiStepLR(optimizer, [60, 120, 180], gamma=0.1)\n",
    "for _ in range(STEPS):\n",
    "    optimizer.step()\n",
    "    lrs.append(scheduler.get_last_lr())\n",
    "    scheduler.step()\n",
    "plt.plot(lrs, label=scheduler.__class__.__name__)\n",
    "\n",
    "#plt.semilogy()\n",
    "plt.legend()\n",
    "plt.show()"
   ]
  },
  {
   "cell_type": "markdown",
   "metadata": {},
   "source": [
    "## CUB200"
   ]
  },
  {
   "cell_type": "code",
   "execution_count": null,
   "metadata": {},
   "outputs": [],
   "source": [
    "import torch\n",
    "import numpy as np\n",
    "from torchvision import datasets, transforms\n",
    "from KD_Lib.datasets import Cub200\n",
    "\n",
    "DATASET = 'cub200'\n",
    "DATA_PATH = '../Knowledge-Distillation-Zoo/datasets/'\n",
    "BATCH_SIZE = 128"
   ]
  },
  {
   "cell_type": "code",
   "execution_count": null,
   "metadata": {},
   "outputs": [],
   "source": [
    "if DATASET == 'cifar100':\n",
    "    dataset = datasets.CIFAR100\n",
    "    mean = (0.5071, 0.4865, 0.4409)\n",
    "    std  = (0.2673, 0.2564, 0.2762)\n",
    "    imsize = 32\n",
    "elif DATASET == 'cub200':\n",
    "    dataset = Cub200\n",
    "    mean = (104/255.0, 117/255.0, 128/255.0)\n",
    "    std = (1/255.0, 1/255.0, 1/255.0)\n",
    "    imsize = 227\n",
    "\n",
    "train_transform = transforms.Compose([\n",
    "    transforms.RandomCrop(imsize, padding=4),\n",
    "    transforms.RandomHorizontalFlip(),\n",
    "    transforms.ToTensor(),\n",
    "    transforms.Normalize(mean, std)\n",
    "    ])\n",
    "test_transform = transforms.Compose([\n",
    "    transforms.ToTensor(),\n",
    "    transforms.Normalize(mean, std)\n",
    "    ])\n",
    "\n",
    "trainset = dataset(root=DATA_PATH, train=True, download=False, transform=train_transform)\n",
    "train_loader = torch.utils.data.DataLoader(trainset, batch_size=BATCH_SIZE, shuffle=True, num_workers=4, pin_memory=True)"
   ]
  },
  {
   "cell_type": "code",
   "execution_count": null,
   "metadata": {},
   "outputs": [],
   "source": [
    "trainset[0][0].shape"
   ]
  },
  {
   "cell_type": "code",
   "execution_count": null,
   "metadata": {},
   "outputs": [],
   "source": [
    "trainset[0][0].shape"
   ]
  },
  {
   "cell_type": "code",
   "execution_count": null,
   "metadata": {},
   "outputs": [],
   "source": [
    "mean"
   ]
  },
  {
   "cell_type": "markdown",
   "metadata": {},
   "source": []
  },
  {
   "cell_type": "markdown",
   "metadata": {},
   "source": [
    "## ResNet"
   ]
  },
  {
   "cell_type": "code",
   "execution_count": null,
   "metadata": {},
   "outputs": [],
   "source": [
    "from torchvision.models import resnet18 as ResNet18, resnet50 as ResNet50, resnet152 as ResNet152\n",
    "\n",
    "def get_n_params(model):\n",
    "    pp=0\n",
    "    for p in list(model.parameters()):\n",
    "        nn=1\n",
    "        for s in list(p.size()):\n",
    "            nn = nn*s\n",
    "        pp += nn\n",
    "    return pp"
   ]
  },
  {
   "cell_type": "code",
   "execution_count": null,
   "metadata": {},
   "outputs": [],
   "source": [
    "model = ResNet18(weights=None, num_classes=100)"
   ]
  },
  {
   "cell_type": "code",
   "execution_count": null,
   "metadata": {},
   "outputs": [],
   "source": [
    "get_n_params(model)"
   ]
  },
  {
   "cell_type": "code",
   "execution_count": null,
   "metadata": {},
   "outputs": [],
   "source": [
    "from KD_Lib.models.resnet import ResNet18, ResNet50, ResNet152"
   ]
  },
  {
   "cell_type": "code",
   "execution_count": null,
   "metadata": {},
   "outputs": [],
   "source": [
    "model_new = ResNet18(num_classes=100)"
   ]
  },
  {
   "cell_type": "code",
   "execution_count": null,
   "metadata": {},
   "outputs": [],
   "source": [
    "len(list(model_new.parameters()))"
   ]
  },
  {
   "cell_type": "code",
   "execution_count": null,
   "metadata": {},
   "outputs": [],
   "source": [
    "get_n_params(model_new)"
   ]
  },
  {
   "cell_type": "code",
   "execution_count": null,
   "metadata": {},
   "outputs": [],
   "source": [
    "model"
   ]
  },
  {
   "cell_type": "code",
   "execution_count": null,
   "metadata": {},
   "outputs": [],
   "source": [
    "model_new"
   ]
  },
  {
   "cell_type": "code",
   "execution_count": null,
   "metadata": {},
   "outputs": [],
   "source": [
    "import numpy as np\n",
    "import matplotlib.pyplot as plt\n",
    "import torch\n",
    "from KD_Lib.models.resnet_torch import get_ResNet"
   ]
  },
  {
   "cell_type": "code",
   "execution_count": null,
   "metadata": {},
   "outputs": [],
   "source": [
    "model = get_ResNet('resnet18', 10).eval()"
   ]
  },
  {
   "cell_type": "code",
   "execution_count": null,
   "metadata": {},
   "outputs": [],
   "source": [
    "test = torch.randn(1, 3, 32, 32)"
   ]
  },
  {
   "cell_type": "code",
   "execution_count": null,
   "metadata": {},
   "outputs": [],
   "source": [
    "model.forward(test, norm_feats=False)"
   ]
  },
  {
   "cell_type": "code",
   "execution_count": null,
   "metadata": {},
   "outputs": [],
   "source": [
    "np.hist(model.forward(test, norm_feats=True))"
   ]
  },
  {
   "cell_type": "code",
   "execution_count": null,
   "metadata": {},
   "outputs": [],
   "source": [
    "out, feats, weight, bias = model.forward(torch.randn(2, 3, 32, 32), return_feats=True)"
   ]
  },
  {
   "cell_type": "markdown",
   "metadata": {},
   "source": [
    "# Track Experiments"
   ]
  },
  {
   "cell_type": "code",
   "execution_count": 2,
   "metadata": {},
   "outputs": [],
   "source": [
    "import os\n",
    "import json\n",
    "import pandas as pd"
   ]
  },
  {
   "cell_type": "code",
   "execution_count": 3,
   "metadata": {},
   "outputs": [],
   "source": [
    "DIR = './exp/'\n",
    "\n",
    "experiments = []\n",
    "for dirname, _, filenames in os.walk(DIR):\n",
    "    for filename in filenames:\n",
    "        experiments.append(json.load(open(os.path.join(dirname, filename), 'r')))\n",
    "\n",
    "df = pd.DataFrame(experiments)\n",
    "T = df[df['EXP'] == 'kd_cifar100_new'].iloc[0]['TIME']\n"
   ]
  },
  {
   "cell_type": "code",
   "execution_count": 4,
   "metadata": {},
   "outputs": [
    {
     "data": {
      "text/plain": [
       "115.13368615706761"
      ]
     },
     "execution_count": 4,
     "metadata": {},
     "output_type": "execute_result"
    }
   ],
   "source": [
    "T"
   ]
  },
  {
   "cell_type": "code",
   "execution_count": 5,
   "metadata": {},
   "outputs": [
    {
     "data": {
      "text/plain": [
       "1.433095368844957"
      ]
     },
     "execution_count": 5,
     "metadata": {},
     "output_type": "execute_result"
    }
   ],
   "source": [
    "# CRD\n",
    "T_KD = 109.26\n",
    "T_CRD = 156.58\n",
    "T_CRD / T_KD"
   ]
  },
  {
   "cell_type": "code",
   "execution_count": 6,
   "metadata": {},
   "outputs": [
    {
     "data": {
      "text/html": [
       "<div>\n",
       "<style scoped>\n",
       "    .dataframe tbody tr th:only-of-type {\n",
       "        vertical-align: middle;\n",
       "    }\n",
       "\n",
       "    .dataframe tbody tr th {\n",
       "        vertical-align: top;\n",
       "    }\n",
       "\n",
       "    .dataframe thead th {\n",
       "        text-align: right;\n",
       "    }\n",
       "</style>\n",
       "<table border=\"1\" class=\"dataframe\">\n",
       "  <thead>\n",
       "    <tr style=\"text-align: right;\">\n",
       "      <th></th>\n",
       "      <th>EXP</th>\n",
       "      <th>T</th>\n",
       "      <th>W</th>\n",
       "      <th>FEAT_NORM</th>\n",
       "      <th>T_LAST</th>\n",
       "      <th>T_BEST</th>\n",
       "      <th>S_LAST</th>\n",
       "      <th>S_BEST</th>\n",
       "      <th>TIME</th>\n",
       "    </tr>\n",
       "  </thead>\n",
       "  <tbody>\n",
       "    <tr>\n",
       "      <th>15</th>\n",
       "      <td>shake_cifar100_new</td>\n",
       "      <td>4.0</td>\n",
       "      <td>1.0</td>\n",
       "      <td>False</td>\n",
       "      <td>0.7444</td>\n",
       "      <td>0.7448</td>\n",
       "      <td>0.7133</td>\n",
       "      <td>0.7160</td>\n",
       "      <td>1.110229e+00</td>\n",
       "    </tr>\n",
       "    <tr>\n",
       "      <th>9</th>\n",
       "      <td>dml_cifar100_T</td>\n",
       "      <td>4.0</td>\n",
       "      <td>1.0</td>\n",
       "      <td>False</td>\n",
       "      <td>0.7609</td>\n",
       "      <td>0.7622</td>\n",
       "      <td>0.7111</td>\n",
       "      <td>0.7140</td>\n",
       "      <td>NaN</td>\n",
       "    </tr>\n",
       "    <tr>\n",
       "      <th>1</th>\n",
       "      <td>smooth_cifar100_noCE</td>\n",
       "      <td>4.0</td>\n",
       "      <td>1.0</td>\n",
       "      <td>False</td>\n",
       "      <td>0.7432</td>\n",
       "      <td>0.7432</td>\n",
       "      <td>0.7110</td>\n",
       "      <td>0.7123</td>\n",
       "      <td>1.017295e+00</td>\n",
       "    </tr>\n",
       "    <tr>\n",
       "      <th>14</th>\n",
       "      <td>ftkd_cifar100_T</td>\n",
       "      <td>4.0</td>\n",
       "      <td>1.0</td>\n",
       "      <td>False</td>\n",
       "      <td>0.7396</td>\n",
       "      <td>0.7373</td>\n",
       "      <td>0.7118</td>\n",
       "      <td>0.7121</td>\n",
       "      <td>NaN</td>\n",
       "    </tr>\n",
       "    <tr>\n",
       "      <th>6</th>\n",
       "      <td>smooth_cifar100_new</td>\n",
       "      <td>4.0</td>\n",
       "      <td>1.0</td>\n",
       "      <td>False</td>\n",
       "      <td>0.7438</td>\n",
       "      <td>0.7436</td>\n",
       "      <td>0.7096</td>\n",
       "      <td>0.7108</td>\n",
       "      <td>1.015161e+00</td>\n",
       "    </tr>\n",
       "    <tr>\n",
       "      <th>8</th>\n",
       "      <td>smooth_cifar100_untrained</td>\n",
       "      <td>4.0</td>\n",
       "      <td>1.0</td>\n",
       "      <td>False</td>\n",
       "      <td>0.7428</td>\n",
       "      <td>0.7428</td>\n",
       "      <td>0.7102</td>\n",
       "      <td>0.7102</td>\n",
       "      <td>1.040369e+00</td>\n",
       "    </tr>\n",
       "    <tr>\n",
       "      <th>18</th>\n",
       "      <td>smooth_cifar100_no_mse</td>\n",
       "      <td>4.0</td>\n",
       "      <td>1.0</td>\n",
       "      <td>False</td>\n",
       "      <td>0.7438</td>\n",
       "      <td>0.7439</td>\n",
       "      <td>0.7062</td>\n",
       "      <td>0.7096</td>\n",
       "      <td>NaN</td>\n",
       "    </tr>\n",
       "    <tr>\n",
       "      <th>7</th>\n",
       "      <td>trikd_cifar100_T</td>\n",
       "      <td>4.0</td>\n",
       "      <td>1.0</td>\n",
       "      <td>False</td>\n",
       "      <td>0.7321</td>\n",
       "      <td>0.7321</td>\n",
       "      <td>0.7081</td>\n",
       "      <td>0.7091</td>\n",
       "      <td>1.072123e+00</td>\n",
       "    </tr>\n",
       "    <tr>\n",
       "      <th>0</th>\n",
       "      <td>dml_cifar100_new</td>\n",
       "      <td>4.0</td>\n",
       "      <td>1.0</td>\n",
       "      <td>False</td>\n",
       "      <td>0.7558</td>\n",
       "      <td>0.7586</td>\n",
       "      <td>0.7018</td>\n",
       "      <td>0.7082</td>\n",
       "      <td>2.722962e+00</td>\n",
       "    </tr>\n",
       "    <tr>\n",
       "      <th>10</th>\n",
       "      <td>smooth_cifar100</td>\n",
       "      <td>4.0</td>\n",
       "      <td>1.0</td>\n",
       "      <td>False</td>\n",
       "      <td>0.7437</td>\n",
       "      <td>0.7434</td>\n",
       "      <td>0.7077</td>\n",
       "      <td>0.7077</td>\n",
       "      <td>NaN</td>\n",
       "    </tr>\n",
       "    <tr>\n",
       "      <th>12</th>\n",
       "      <td>dml_cifar100</td>\n",
       "      <td>1.0</td>\n",
       "      <td>1.0</td>\n",
       "      <td>False</td>\n",
       "      <td>0.7556</td>\n",
       "      <td>0.7556</td>\n",
       "      <td>0.7039</td>\n",
       "      <td>0.7076</td>\n",
       "      <td>NaN</td>\n",
       "    </tr>\n",
       "    <tr>\n",
       "      <th>19</th>\n",
       "      <td>kd_cifar100</td>\n",
       "      <td>4.0</td>\n",
       "      <td>0.9</td>\n",
       "      <td>False</td>\n",
       "      <td>0.7446</td>\n",
       "      <td>0.7472</td>\n",
       "      <td>0.7047</td>\n",
       "      <td>0.7070</td>\n",
       "      <td>NaN</td>\n",
       "    </tr>\n",
       "    <tr>\n",
       "      <th>4</th>\n",
       "      <td>shake_cifar100</td>\n",
       "      <td>4.0</td>\n",
       "      <td>1.0</td>\n",
       "      <td>False</td>\n",
       "      <td>0.7455</td>\n",
       "      <td>0.7457</td>\n",
       "      <td>0.7038</td>\n",
       "      <td>0.7038</td>\n",
       "      <td>NaN</td>\n",
       "    </tr>\n",
       "    <tr>\n",
       "      <th>11</th>\n",
       "      <td>ftkd_cifar100</td>\n",
       "      <td>1.0</td>\n",
       "      <td>1.0</td>\n",
       "      <td>False</td>\n",
       "      <td>0.7360</td>\n",
       "      <td>0.7394</td>\n",
       "      <td>0.6940</td>\n",
       "      <td>0.7026</td>\n",
       "      <td>NaN</td>\n",
       "    </tr>\n",
       "    <tr>\n",
       "      <th>5</th>\n",
       "      <td>smooth_cifar100_noT</td>\n",
       "      <td>1.0</td>\n",
       "      <td>1.0</td>\n",
       "      <td>False</td>\n",
       "      <td>0.7424</td>\n",
       "      <td>0.7405</td>\n",
       "      <td>0.6938</td>\n",
       "      <td>0.6992</td>\n",
       "      <td>1.057702e+00</td>\n",
       "    </tr>\n",
       "    <tr>\n",
       "      <th>3</th>\n",
       "      <td>trikd_cifar100</td>\n",
       "      <td>1.0</td>\n",
       "      <td>100.0</td>\n",
       "      <td>False</td>\n",
       "      <td>0.7167</td>\n",
       "      <td>0.7230</td>\n",
       "      <td>0.6606</td>\n",
       "      <td>0.6632</td>\n",
       "      <td>1.083629e+00</td>\n",
       "    </tr>\n",
       "    <tr>\n",
       "      <th>16</th>\n",
       "      <td>kd_cifar100_new</td>\n",
       "      <td>4.0</td>\n",
       "      <td>0.9</td>\n",
       "      <td>False</td>\n",
       "      <td>0.7472</td>\n",
       "      <td>0.7472</td>\n",
       "      <td>0.6319</td>\n",
       "      <td>0.6344</td>\n",
       "      <td>1.000000e+00</td>\n",
       "    </tr>\n",
       "    <tr>\n",
       "      <th>13</th>\n",
       "      <td>smooth_cifar100_fn</td>\n",
       "      <td>4.0</td>\n",
       "      <td>1.0</td>\n",
       "      <td>True</td>\n",
       "      <td>0.7371</td>\n",
       "      <td>0.7390</td>\n",
       "      <td>0.6046</td>\n",
       "      <td>0.6331</td>\n",
       "      <td>NaN</td>\n",
       "    </tr>\n",
       "    <tr>\n",
       "      <th>20</th>\n",
       "      <td>fnkd_cifar100_fn</td>\n",
       "      <td>4.0</td>\n",
       "      <td>1.0</td>\n",
       "      <td>True</td>\n",
       "      <td>0.7472</td>\n",
       "      <td>0.7472</td>\n",
       "      <td>0.6123</td>\n",
       "      <td>0.6139</td>\n",
       "      <td>NaN</td>\n",
       "    </tr>\n",
       "    <tr>\n",
       "      <th>2</th>\n",
       "      <td>smooth_cifar100_sharp</td>\n",
       "      <td>4.0</td>\n",
       "      <td>1.0</td>\n",
       "      <td>False</td>\n",
       "      <td>0.0100</td>\n",
       "      <td>0.5289</td>\n",
       "      <td>0.0100</td>\n",
       "      <td>0.5549</td>\n",
       "      <td>1.481504e+07</td>\n",
       "    </tr>\n",
       "    <tr>\n",
       "      <th>17</th>\n",
       "      <td>baseline_cifar100</td>\n",
       "      <td>4.0</td>\n",
       "      <td>1.0</td>\n",
       "      <td>False</td>\n",
       "      <td>0.6922</td>\n",
       "      <td>0.6946</td>\n",
       "      <td>0.0000</td>\n",
       "      <td>0.0000</td>\n",
       "      <td>0.000000e+00</td>\n",
       "    </tr>\n",
       "  </tbody>\n",
       "</table>\n",
       "</div>"
      ],
      "text/plain": [
       "                          EXP    T      W  FEAT_NORM  T_LAST  T_BEST  S_LAST  \\\n",
       "15         shake_cifar100_new  4.0    1.0      False  0.7444  0.7448  0.7133   \n",
       "9              dml_cifar100_T  4.0    1.0      False  0.7609  0.7622  0.7111   \n",
       "1        smooth_cifar100_noCE  4.0    1.0      False  0.7432  0.7432  0.7110   \n",
       "14            ftkd_cifar100_T  4.0    1.0      False  0.7396  0.7373  0.7118   \n",
       "6         smooth_cifar100_new  4.0    1.0      False  0.7438  0.7436  0.7096   \n",
       "8   smooth_cifar100_untrained  4.0    1.0      False  0.7428  0.7428  0.7102   \n",
       "18     smooth_cifar100_no_mse  4.0    1.0      False  0.7438  0.7439  0.7062   \n",
       "7            trikd_cifar100_T  4.0    1.0      False  0.7321  0.7321  0.7081   \n",
       "0            dml_cifar100_new  4.0    1.0      False  0.7558  0.7586  0.7018   \n",
       "10            smooth_cifar100  4.0    1.0      False  0.7437  0.7434  0.7077   \n",
       "12               dml_cifar100  1.0    1.0      False  0.7556  0.7556  0.7039   \n",
       "19                kd_cifar100  4.0    0.9      False  0.7446  0.7472  0.7047   \n",
       "4              shake_cifar100  4.0    1.0      False  0.7455  0.7457  0.7038   \n",
       "11              ftkd_cifar100  1.0    1.0      False  0.7360  0.7394  0.6940   \n",
       "5         smooth_cifar100_noT  1.0    1.0      False  0.7424  0.7405  0.6938   \n",
       "3              trikd_cifar100  1.0  100.0      False  0.7167  0.7230  0.6606   \n",
       "16            kd_cifar100_new  4.0    0.9      False  0.7472  0.7472  0.6319   \n",
       "13         smooth_cifar100_fn  4.0    1.0       True  0.7371  0.7390  0.6046   \n",
       "20           fnkd_cifar100_fn  4.0    1.0       True  0.7472  0.7472  0.6123   \n",
       "2       smooth_cifar100_sharp  4.0    1.0      False  0.0100  0.5289  0.0100   \n",
       "17          baseline_cifar100  4.0    1.0      False  0.6922  0.6946  0.0000   \n",
       "\n",
       "    S_BEST          TIME  \n",
       "15  0.7160  1.110229e+00  \n",
       "9   0.7140           NaN  \n",
       "1   0.7123  1.017295e+00  \n",
       "14  0.7121           NaN  \n",
       "6   0.7108  1.015161e+00  \n",
       "8   0.7102  1.040369e+00  \n",
       "18  0.7096           NaN  \n",
       "7   0.7091  1.072123e+00  \n",
       "0   0.7082  2.722962e+00  \n",
       "10  0.7077           NaN  \n",
       "12  0.7076           NaN  \n",
       "19  0.7070           NaN  \n",
       "4   0.7038           NaN  \n",
       "11  0.7026           NaN  \n",
       "5   0.6992  1.057702e+00  \n",
       "3   0.6632  1.083629e+00  \n",
       "16  0.6344  1.000000e+00  \n",
       "13  0.6331           NaN  \n",
       "20  0.6139           NaN  \n",
       "2   0.5549  1.481504e+07  \n",
       "17  0.0000  0.000000e+00  "
      ]
     },
     "execution_count": 6,
     "metadata": {},
     "output_type": "execute_result"
    }
   ],
   "source": [
    "df['T_LAST'] = df['VACC'].apply(lambda x: x['T_LAST'])\n",
    "df['T_BEST'] = df['VACC'].apply(lambda x: x['T_BEST'])\n",
    "df['S_LAST'] = df['VACC'].apply(lambda x: x['S_LAST'])\n",
    "df['S_BEST'] = df['VACC'].apply(lambda x: x['S_BEST'])\n",
    "df['TIME'] = df['TIME'].apply(lambda x: x/T)\n",
    "df[['EXP', 'T', 'W', 'FEAT_NORM', 'T_LAST', 'T_BEST', 'S_LAST', 'S_BEST', 'TIME']].sort_values(by='S_BEST', ascending=False)"
   ]
  },
  {
   "cell_type": "markdown",
   "metadata": {},
   "source": [
    "# Model Parameters"
   ]
  },
  {
   "cell_type": "code",
   "execution_count": null,
   "metadata": {},
   "outputs": [],
   "source": [
    "from KD_Lib.models import model_dict\n",
    "from KD_Lib.models.resnet_torch import monkey_patch"
   ]
  },
  {
   "cell_type": "code",
   "execution_count": null,
   "metadata": {},
   "outputs": [],
   "source": [
    "model = model_dict['resnet20'](num_classes=100)\n",
    "model = monkey_patch(model, custom=True)\n",
    "pytorch_total_params = sum(p.numel() for p in model.parameters())\n",
    "print(f\"Parameters: {pytorch_total_params}\")"
   ]
  },
  {
   "cell_type": "code",
   "execution_count": null,
   "metadata": {},
   "outputs": [],
   "source": [
    "from KD_Lib.models.resnet_test import ResNet50\n",
    "from KD_Lib.models.shake import ShakeHead"
   ]
  },
  {
   "cell_type": "code",
   "execution_count": null,
   "metadata": {},
   "outputs": [],
   "source": [
    "model = ResNet50(num_classes=1000)"
   ]
  },
  {
   "cell_type": "code",
   "execution_count": null,
   "metadata": {},
   "outputs": [],
   "source": [
    "pytorch_total_params = sum(p.numel() for p in model.parameters())\n",
    "print(f\"Parameters: {pytorch_total_params}\")"
   ]
  },
  {
   "cell_type": "code",
   "execution_count": null,
   "metadata": {},
   "outputs": [],
   "source": [
    "data = torch.randn(2, 3, 224, 224)\n",
    "feat_t, out_t = model(data, is_feat=True)\n",
    "shake = ShakeHead(feat_t)"
   ]
  },
  {
   "cell_type": "code",
   "execution_count": null,
   "metadata": {},
   "outputs": [],
   "source": [
    "pytorch_total_params = sum(p.numel() for p in shake.parameters())\n",
    "print(f\"Parameters: {pytorch_total_params}\")"
   ]
  },
  {
   "cell_type": "markdown",
   "metadata": {},
   "source": [
    "# Distillation Loss"
   ]
  },
  {
   "cell_type": "code",
   "execution_count": null,
   "metadata": {},
   "outputs": [],
   "source": [
    "import torch"
   ]
  },
  {
   "cell_type": "code",
   "execution_count": null,
   "metadata": {},
   "outputs": [],
   "source": [
    "label = torch.randint(0, 10, (1,))\n",
    "pred_t, pred_f = torch.zeros(10), torch.zeros(10)\n",
    "pred_t[label] = 0.8\n",
    "pred_t += 0.2 / 10\n",
    "pred_f[torch.randint(0, 10, (1,))] = 0.8\n",
    "pred_f += 0.2 / 10\n",
    "pred_t_s = torch.softmax(pred_t/4, dim=-1)\n",
    "pred_f_s = torch.softmax(pred_f/4, dim=-1)"
   ]
  },
  {
   "cell_type": "code",
   "execution_count": null,
   "metadata": {},
   "outputs": [],
   "source": [
    "pred_t, pred_f, pred_t_s, pred_f_s"
   ]
  },
  {
   "cell_type": "code",
   "execution_count": null,
   "metadata": {},
   "outputs": [],
   "source": [
    "torch.nn.functional.cross_entropy(pred_t.unsqueeze(0), label), torch.nn.functional.cross_entropy(pred_f.unsqueeze(0), label)"
   ]
  },
  {
   "cell_type": "code",
   "execution_count": null,
   "metadata": {},
   "outputs": [],
   "source": [
    "torch.nn.functional.cross_entropy(pred_t_s.unsqueeze(0), label), torch.nn.functional.cross_entropy(pred_f_s.unsqueeze(0), label)"
   ]
  },
  {
   "cell_type": "code",
   "execution_count": null,
   "metadata": {},
   "outputs": [],
   "source": []
  }
 ],
 "metadata": {
  "kernelspec": {
   "display_name": "sam",
   "language": "python",
   "name": "python3"
  },
  "language_info": {
   "codemirror_mode": {
    "name": "ipython",
    "version": 3
   },
   "file_extension": ".py",
   "mimetype": "text/x-python",
   "name": "python",
   "nbconvert_exporter": "python",
   "pygments_lexer": "ipython3",
   "version": "3.9.18"
  }
 },
 "nbformat": 4,
 "nbformat_minor": 2
}
